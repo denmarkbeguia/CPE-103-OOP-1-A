{
  "nbformat": 4,
  "nbformat_minor": 0,
  "metadata": {
    "colab": {
      "provenance": [],
      "authorship_tag": "ABX9TyO8iaM4g2ZjVw2T5PQTU368",
      "include_colab_link": true
    },
    "kernelspec": {
      "name": "python3",
      "display_name": "Python 3"
    },
    "language_info": {
      "name": "python"
    }
  },
  "cells": [
    {
      "cell_type": "markdown",
      "metadata": {
        "id": "view-in-github",
        "colab_type": "text"
      },
      "source": [
        "<a href=\"https://colab.research.google.com/github/denmarkbeguia/CPE-103-OOP-1-A/blob/main/PhytonFundamentals.ipynb\" target=\"_parent\"><img src=\"https://colab.research.google.com/assets/colab-badge.svg\" alt=\"Open In Colab\"/></a>"
      ]
    },
    {
      "cell_type": "markdown",
      "source": [
        "Phyton Indentation"
      ],
      "metadata": {
        "id": "-6y-Xw5vGQI5"
      }
    },
    {
      "cell_type": "code",
      "source": [
        "if 5>2:\n",
        "  print (\"Five is greater than two!\")"
      ],
      "metadata": {
        "colab": {
          "base_uri": "https://localhost:8080/"
        },
        "id": "k4ZuqEQ6HOPh",
        "outputId": "b614271a-8a8b-468f-deec-838601f7b3ef"
      },
      "execution_count": 5,
      "outputs": [
        {
          "output_type": "stream",
          "name": "stdout",
          "text": [
            "Five is greater than two!\n"
          ]
        }
      ]
    },
    {
      "cell_type": "markdown",
      "source": [
        "Phyton Comments"
      ],
      "metadata": {
        "id": "tZ7eWaf0IqN7"
      }
    },
    {
      "cell_type": "code",
      "source": [
        "#This is a comment\n",
        "print(\"Hello World\")"
      ],
      "metadata": {
        "colab": {
          "base_uri": "https://localhost:8080/"
        },
        "id": "lLAz-b5OJFVY",
        "outputId": "bc252ffe-6cb4-4430-ac41-dbcd3a487d69"
      },
      "execution_count": 6,
      "outputs": [
        {
          "output_type": "stream",
          "name": "stdout",
          "text": [
            "Hello World\n"
          ]
        }
      ]
    },
    {
      "cell_type": "markdown",
      "source": [
        "Phyton Variable"
      ],
      "metadata": {
        "id": "Od4UYr6KJ-kB"
      }
    },
    {
      "cell_type": "code",
      "source": [
        "x = 1\n",
        "a, b =0, -1\n",
        "a,b,c=0,-1,2\n",
        "b=\"#This is a type of string\""
      ],
      "metadata": {
        "id": "jH4ombZJKYFS"
      },
      "execution_count": 94,
      "outputs": []
    },
    {
      "cell_type": "markdown",
      "source": [
        "Casting"
      ],
      "metadata": {
        "id": "BKrvPWXUMBui"
      }
    },
    {
      "cell_type": "code",
      "source": [
        "b = \"sally\" #This is a type of string\n",
        "b = int (4)\n",
        "b = float (4)\n",
        "print(b)"
      ],
      "metadata": {
        "colab": {
          "base_uri": "https://localhost:8080/"
        },
        "id": "g_0hA_t1MPA4",
        "outputId": "1cc51d4b-6e58-4de8-9007-d2ec0c937d00"
      },
      "execution_count": 18,
      "outputs": [
        {
          "output_type": "stream",
          "name": "stdout",
          "text": [
            "4.0\n"
          ]
        }
      ]
    },
    {
      "cell_type": "code",
      "source": [],
      "metadata": {
        "id": "UjgXgc1LNPGq"
      },
      "execution_count": null,
      "outputs": []
    },
    {
      "cell_type": "markdown",
      "source": [
        "Type()function"
      ],
      "metadata": {
        "id": "9iaeKCYwNgSi"
      }
    },
    {
      "cell_type": "code",
      "source": [
        " x = 5\n",
        "y = \"John\"\n",
        "print (type(x))\n",
        "print(type(y))"
      ],
      "metadata": {
        "colab": {
          "base_uri": "https://localhost:8080/"
        },
        "id": "MNyaSEb7NlPY",
        "outputId": "d95253e1-0d9a-411d-b4a3-c02718488840"
      },
      "execution_count": 21,
      "outputs": [
        {
          "output_type": "stream",
          "name": "stdout",
          "text": [
            "<class 'int'>\n",
            "<class 'str'>\n"
          ]
        }
      ]
    },
    {
      "cell_type": "markdown",
      "source": [
        "\"Double quotes\" or 'Single' quotes"
      ],
      "metadata": {
        "id": "vFvtc57GN5xB"
      }
    },
    {
      "cell_type": "code",
      "source": [
        "y = \"John\"\n",
        "y = 'John'\n",
        "print (y)\n",
        "print (y)"
      ],
      "metadata": {
        "colab": {
          "base_uri": "https://localhost:8080/"
        },
        "id": "lKPrLd0UOKLh",
        "outputId": "041adb80-39c2-4840-c046-cdb588a23af3"
      },
      "execution_count": 89,
      "outputs": [
        {
          "output_type": "stream",
          "name": "stdout",
          "text": [
            "John\n",
            "John\n"
          ]
        }
      ]
    },
    {
      "cell_type": "markdown",
      "source": [
        "Case sensitive"
      ],
      "metadata": {
        "id": "LwGINDhUOw4B"
      }
    },
    {
      "cell_type": "code",
      "source": [
        "a=4\n",
        "A=\"Sally\"\n",
        "#A will not overwrite a\n",
        "print (A)"
      ],
      "metadata": {
        "colab": {
          "base_uri": "https://localhost:8080/"
        },
        "id": "DEWbsaS7OeFK",
        "outputId": "d94cc34d-baa0-4e04-d985-e27744ac3408"
      },
      "execution_count": 31,
      "outputs": [
        {
          "output_type": "stream",
          "name": "stdout",
          "text": [
            "Sally\n"
          ]
        }
      ]
    },
    {
      "cell_type": "markdown",
      "source": [
        "Multiple Variables"
      ],
      "metadata": {
        "id": "XHxKkXtePGxw"
      }
    },
    {
      "cell_type": "code",
      "source": [
        "x, y, z=\"one\", \"two\", \"three\"\n",
        "print(x)\n",
        "print(y)\n",
        "print(z)"
      ],
      "metadata": {
        "colab": {
          "base_uri": "https://localhost:8080/"
        },
        "id": "OmHOYTSpPKxw",
        "outputId": "080049e4-1908-4260-8103-9f88c84fcc51"
      },
      "execution_count": 32,
      "outputs": [
        {
          "output_type": "stream",
          "name": "stdout",
          "text": [
            "one\n",
            "two\n",
            "three\n"
          ]
        }
      ]
    },
    {
      "cell_type": "markdown",
      "source": [
        "One Value to Multiple Variables"
      ],
      "metadata": {
        "id": "PmhsW8u_PgqS"
      }
    },
    {
      "cell_type": "code",
      "source": [
        "x=y=z=\"four\"\n",
        "print(x)\n",
        "print(y)\n",
        "print(z)"
      ],
      "metadata": {
        "colab": {
          "base_uri": "https://localhost:8080/"
        },
        "id": "bwgb2c4APvmy",
        "outputId": "253ca48e-7ebf-4b11-fb59-a303bf6d3e8e"
      },
      "execution_count": 33,
      "outputs": [
        {
          "output_type": "stream",
          "name": "stdout",
          "text": [
            "four\n",
            "four\n",
            "four\n"
          ]
        }
      ]
    },
    {
      "cell_type": "markdown",
      "source": [
        "Output Variable"
      ],
      "metadata": {
        "id": "AX552nCoQCy6"
      }
    },
    {
      "cell_type": "code",
      "source": [
        "x = \"enjoying\"\n",
        "print(\"Phyton programming is\" + \" \" + x)"
      ],
      "metadata": {
        "colab": {
          "base_uri": "https://localhost:8080/"
        },
        "id": "FGH1_robQG45",
        "outputId": "6a40af5c-0f33-4433-a68c-f3224e798234"
      },
      "execution_count": 40,
      "outputs": [
        {
          "output_type": "stream",
          "name": "stdout",
          "text": [
            "Phyton programming is enjoying\n"
          ]
        }
      ]
    },
    {
      "cell_type": "markdown",
      "source": [
        "Arithmetic Operations"
      ],
      "metadata": {
        "id": "wjJ8KZl9QnCJ"
      }
    },
    {
      "cell_type": "code",
      "source": [
        "x = 10\n",
        "y = 3\n",
        "# Exponentiation\n",
        "x**2\n",
        "x/y"
      ],
      "metadata": {
        "colab": {
          "base_uri": "https://localhost:8080/"
        },
        "id": "GbimwjnuQsVY",
        "outputId": "e2176b42-a4ea-45ef-82bf-39358e5dae94"
      },
      "execution_count": 41,
      "outputs": [
        {
          "output_type": "execute_result",
          "data": {
            "text/plain": [
              "3.3333333333333335"
            ]
          },
          "metadata": {},
          "execution_count": 41
        }
      ]
    },
    {
      "cell_type": "markdown",
      "source": [
        "Assignment Operators"
      ],
      "metadata": {
        "id": "jDoXLBirSCKQ"
      }
    },
    {
      "cell_type": "code",
      "source": [
        "x = 3\n",
        "x*=3 # x =x*3\n",
        "print(x)"
      ],
      "metadata": {
        "colab": {
          "base_uri": "https://localhost:8080/"
        },
        "id": "xNc0tpJySW0Q",
        "outputId": "bb01eb8b-41c7-480c-ae79-a18da644de10"
      },
      "execution_count": 43,
      "outputs": [
        {
          "output_type": "stream",
          "name": "stdout",
          "text": [
            "9\n"
          ]
        }
      ]
    },
    {
      "cell_type": "markdown",
      "source": [
        "Comparison Operators"
      ],
      "metadata": {
        "id": "GgGP-9slSqUq"
      }
    },
    {
      "cell_type": "code",
      "source": [
        "x = 5\n",
        "y = 2\n",
        "\n",
        "x>y"
      ],
      "metadata": {
        "colab": {
          "base_uri": "https://localhost:8080/"
        },
        "id": "z4icIkgrStWA",
        "outputId": "63cf9480-92c1-4b1d-89ac-b4f186e58a54"
      },
      "execution_count": 46,
      "outputs": [
        {
          "output_type": "execute_result",
          "data": {
            "text/plain": [
              "True"
            ]
          },
          "metadata": {},
          "execution_count": 46
        }
      ]
    },
    {
      "cell_type": "markdown",
      "source": [
        "Logical Operators"
      ],
      "metadata": {
        "id": "TiB3tAO6TPXx"
      }
    },
    {
      "cell_type": "code",
      "source": [
        "x = 5\n",
        "y = 2\n",
        "\n",
        "not(x>y)"
      ],
      "metadata": {
        "colab": {
          "base_uri": "https://localhost:8080/"
        },
        "id": "jH0OX27lTRdR",
        "outputId": "54d284a4-03d8-44b2-b69e-eecc68e74245"
      },
      "execution_count": 47,
      "outputs": [
        {
          "output_type": "execute_result",
          "data": {
            "text/plain": [
              "False"
            ]
          },
          "metadata": {},
          "execution_count": 47
        }
      ]
    },
    {
      "cell_type": "markdown",
      "source": [
        "Identity Operators"
      ],
      "metadata": {
        "id": "eCXtNuDNTSFR"
      }
    },
    {
      "cell_type": "code",
      "source": [
        "a,b,c+0,-1,6\n",
        "a>b and c>b"
      ],
      "metadata": {
        "colab": {
          "base_uri": "https://localhost:8080/"
        },
        "id": "Z7HiIaIxTU1R",
        "outputId": "9e709f1a-d8fe-484f-fc47-2e5f79e3448a"
      },
      "execution_count": 67,
      "outputs": [
        {
          "output_type": "execute_result",
          "data": {
            "text/plain": [
              "True"
            ]
          },
          "metadata": {},
          "execution_count": 67
        }
      ]
    },
    {
      "cell_type": "markdown",
      "source": [
        "Bitwise Operators"
      ],
      "metadata": {
        "id": "g2rouFlMTXIZ"
      }
    },
    {
      "cell_type": "code",
      "source": [
        "#decimal to  binary\n",
        "#10 = 1010\n",
        "\n",
        "x = 10\n",
        "print(x>>1)\n",
        "\n"
      ],
      "metadata": {
        "colab": {
          "base_uri": "https://localhost:8080/"
        },
        "id": "RdfRlQl1TmXh",
        "outputId": "894f5a2c-7989-4e33-ae01-3ea3a28bae66"
      },
      "execution_count": 66,
      "outputs": [
        {
          "output_type": "stream",
          "name": "stdout",
          "text": [
            "5\n"
          ]
        }
      ]
    },
    {
      "cell_type": "markdown",
      "source": [
        "Application 1"
      ],
      "metadata": {
        "id": "2_fkT4EYYSyR"
      }
    },
    {
      "cell_type": "code",
      "source": [
        "#Application 1"
      ],
      "metadata": {
        "id": "zxeqQ-oUYYuI"
      },
      "execution_count": null,
      "outputs": []
    },
    {
      "cell_type": "markdown",
      "source": [
        "Rectangle"
      ],
      "metadata": {
        "id": "psR9EnC-dqyg"
      }
    },
    {
      "cell_type": "code",
      "source": [
        "x, y, z=\"lenght = 4\", \"width = 2\", \"height = 8\"\n",
        "print(x)\n",
        "print(y)\n",
        "print(z)"
      ],
      "metadata": {
        "colab": {
          "base_uri": "https://localhost:8080/"
        },
        "id": "qwzgR4jtau4B",
        "outputId": "312d98c4-4408-4f8a-836f-39d26f1e7b39"
      },
      "execution_count": 72,
      "outputs": [
        {
          "output_type": "stream",
          "name": "stdout",
          "text": [
            "lenght = 4\n",
            "width = 2\n",
            "height = 8\n"
          ]
        }
      ]
    },
    {
      "cell_type": "markdown",
      "source": [
        "Parallelogram"
      ],
      "metadata": {
        "id": "OHCQgx6_dgGo"
      }
    },
    {
      "cell_type": "code",
      "source": [
        "b = 80\n",
        "h = 40\n",
        "# Exponentiation\n",
        "b*h\n"
      ],
      "metadata": {
        "colab": {
          "base_uri": "https://localhost:8080/"
        },
        "id": "nUfaDoGAbnCJ",
        "outputId": "02a22aa7-0f7b-43c8-ce19-07858e864311"
      },
      "execution_count": 86,
      "outputs": [
        {
          "output_type": "execute_result",
          "data": {
            "text/plain": [
              "3200"
            ]
          },
          "metadata": {},
          "execution_count": 86
        }
      ]
    },
    {
      "cell_type": "markdown",
      "source": [
        "Square"
      ],
      "metadata": {
        "id": "blRgpeMpdvRg"
      }
    },
    {
      "cell_type": "code",
      "source": [
        "x = 6\n",
        "y = 6\n",
        "# Exponentiation\n",
        "x*y"
      ],
      "metadata": {
        "colab": {
          "base_uri": "https://localhost:8080/"
        },
        "id": "OCmk-GPBdyk5",
        "outputId": "3f9469e9-6b50-4012-9170-be03ccb3c7e7"
      },
      "execution_count": 87,
      "outputs": [
        {
          "output_type": "execute_result",
          "data": {
            "text/plain": [
              "36"
            ]
          },
          "metadata": {},
          "execution_count": 87
        }
      ]
    }
  ]
}